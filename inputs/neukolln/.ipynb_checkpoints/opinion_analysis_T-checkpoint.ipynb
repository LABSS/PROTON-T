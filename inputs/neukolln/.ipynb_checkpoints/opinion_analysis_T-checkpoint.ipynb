{
 "cells": [
  {
   "cell_type": "code",
   "execution_count": 1,
   "metadata": {},
   "outputs": [],
   "source": [
    "import pandas as pd\n",
    "import pyreadstat\n",
    "import numpy as np\n",
    "from matplotlib import pyplot as plt\n",
    "from sklearn.utils import resample\n",
    "%matplotlib inline\n",
    "import math"
   ]
  },
  {
   "cell_type": "code",
   "execution_count": 3,
   "metadata": {},
   "outputs": [],
   "source": [
    "# https://github.com/Roche/pyreadstat#basic-usage\n",
    "df, meta = pyreadstat.read_sav(\"raw/surveydata/EVS_ABM1.sav\", encoding='ISO-8859-1')"
   ]
  },
  {
   "cell_type": "code",
   "execution_count": 4,
   "metadata": {},
   "outputs": [
    {
     "data": {
      "text/html": [
       "<div>\n",
       "<style>\n",
       "    .dataframe thead tr:only-child th {\n",
       "        text-align: right;\n",
       "    }\n",
       "\n",
       "    .dataframe thead th {\n",
       "        text-align: left;\n",
       "    }\n",
       "\n",
       "    .dataframe tbody tr th {\n",
       "        vertical-align: top;\n",
       "    }\n",
       "</style>\n",
       "<table border=\"1\" class=\"dataframe\">\n",
       "  <thead>\n",
       "    <tr style=\"text-align: right;\">\n",
       "      <th></th>\n",
       "      <th>studyno</th>\n",
       "      <th>studynoc</th>\n",
       "      <th>version</th>\n",
       "      <th>versionc</th>\n",
       "      <th>doi</th>\n",
       "      <th>id_cocas</th>\n",
       "      <th>caseno</th>\n",
       "      <th>intno</th>\n",
       "      <th>year</th>\n",
       "      <th>country</th>\n",
       "      <th>...</th>\n",
       "      <th>v374c</th>\n",
       "      <th>v375</th>\n",
       "      <th>v376</th>\n",
       "      <th>v377</th>\n",
       "      <th>v378</th>\n",
       "      <th>Maintainorder</th>\n",
       "      <th>RelativeDeprivationFull</th>\n",
       "      <th>Intergration</th>\n",
       "      <th>Authorit</th>\n",
       "      <th>Trust</th>\n",
       "    </tr>\n",
       "  </thead>\n",
       "  <tbody>\n",
       "    <tr>\n",
       "      <th>0</th>\n",
       "      <td>4800.0</td>\n",
       "      <td>4753.0</td>\n",
       "      <td>4.0.0 (2016-04-15)</td>\n",
       "      <td>3.0.0 (2016-04-15)</td>\n",
       "      <td>doi:10.4232/1.12458</td>\n",
       "      <td>2.008276e+11</td>\n",
       "      <td>1.0</td>\n",
       "      <td>111126.0</td>\n",
       "      <td>2008.0</td>\n",
       "      <td>276.0</td>\n",
       "      <td>...</td>\n",
       "      <td>NaN</td>\n",
       "      <td>1.0</td>\n",
       "      <td>33.0</td>\n",
       "      <td>200809.0</td>\n",
       "      <td>200902.0</td>\n",
       "      <td>NaN</td>\n",
       "      <td>NaN</td>\n",
       "      <td>2.000000</td>\n",
       "      <td>5.166667</td>\n",
       "      <td>2.750</td>\n",
       "    </tr>\n",
       "    <tr>\n",
       "      <th>1</th>\n",
       "      <td>4800.0</td>\n",
       "      <td>4753.0</td>\n",
       "      <td>4.0.0 (2016-04-15)</td>\n",
       "      <td>3.0.0 (2016-04-15)</td>\n",
       "      <td>doi:10.4232/1.12458</td>\n",
       "      <td>2.008276e+11</td>\n",
       "      <td>2.0</td>\n",
       "      <td>111126.0</td>\n",
       "      <td>2008.0</td>\n",
       "      <td>276.0</td>\n",
       "      <td>...</td>\n",
       "      <td>NaN</td>\n",
       "      <td>1.0</td>\n",
       "      <td>33.0</td>\n",
       "      <td>200809.0</td>\n",
       "      <td>200902.0</td>\n",
       "      <td>NaN</td>\n",
       "      <td>4.19625</td>\n",
       "      <td>2.000000</td>\n",
       "      <td>5.200000</td>\n",
       "      <td>NaN</td>\n",
       "    </tr>\n",
       "    <tr>\n",
       "      <th>2</th>\n",
       "      <td>4800.0</td>\n",
       "      <td>4753.0</td>\n",
       "      <td>4.0.0 (2016-04-15)</td>\n",
       "      <td>3.0.0 (2016-04-15)</td>\n",
       "      <td>doi:10.4232/1.12458</td>\n",
       "      <td>2.008276e+11</td>\n",
       "      <td>3.0</td>\n",
       "      <td>111126.0</td>\n",
       "      <td>2008.0</td>\n",
       "      <td>276.0</td>\n",
       "      <td>...</td>\n",
       "      <td>NaN</td>\n",
       "      <td>1.0</td>\n",
       "      <td>33.0</td>\n",
       "      <td>200809.0</td>\n",
       "      <td>200902.0</td>\n",
       "      <td>NaN</td>\n",
       "      <td>NaN</td>\n",
       "      <td>2.000000</td>\n",
       "      <td>NaN</td>\n",
       "      <td>2.375</td>\n",
       "    </tr>\n",
       "    <tr>\n",
       "      <th>3</th>\n",
       "      <td>4800.0</td>\n",
       "      <td>4753.0</td>\n",
       "      <td>4.0.0 (2016-04-15)</td>\n",
       "      <td>3.0.0 (2016-04-15)</td>\n",
       "      <td>doi:10.4232/1.12458</td>\n",
       "      <td>2.008276e+11</td>\n",
       "      <td>4.0</td>\n",
       "      <td>111126.0</td>\n",
       "      <td>2008.0</td>\n",
       "      <td>276.0</td>\n",
       "      <td>...</td>\n",
       "      <td>NaN</td>\n",
       "      <td>1.0</td>\n",
       "      <td>33.0</td>\n",
       "      <td>200809.0</td>\n",
       "      <td>200902.0</td>\n",
       "      <td>NaN</td>\n",
       "      <td>NaN</td>\n",
       "      <td>1.500000</td>\n",
       "      <td>NaN</td>\n",
       "      <td>3.375</td>\n",
       "    </tr>\n",
       "    <tr>\n",
       "      <th>4</th>\n",
       "      <td>4800.0</td>\n",
       "      <td>4753.0</td>\n",
       "      <td>4.0.0 (2016-04-15)</td>\n",
       "      <td>3.0.0 (2016-04-15)</td>\n",
       "      <td>doi:10.4232/1.12458</td>\n",
       "      <td>2.008276e+11</td>\n",
       "      <td>5.0</td>\n",
       "      <td>111126.0</td>\n",
       "      <td>2008.0</td>\n",
       "      <td>276.0</td>\n",
       "      <td>...</td>\n",
       "      <td>NaN</td>\n",
       "      <td>1.0</td>\n",
       "      <td>33.0</td>\n",
       "      <td>200809.0</td>\n",
       "      <td>200902.0</td>\n",
       "      <td>NaN</td>\n",
       "      <td>NaN</td>\n",
       "      <td>1.333333</td>\n",
       "      <td>5.266667</td>\n",
       "      <td>2.875</td>\n",
       "    </tr>\n",
       "  </tbody>\n",
       "</table>\n",
       "<p>5 rows × 482 columns</p>\n",
       "</div>"
      ],
      "text/plain": [
       "   studyno  studynoc             version            versionc  \\\n",
       "0   4800.0    4753.0  4.0.0 (2016-04-15)  3.0.0 (2016-04-15)   \n",
       "1   4800.0    4753.0  4.0.0 (2016-04-15)  3.0.0 (2016-04-15)   \n",
       "2   4800.0    4753.0  4.0.0 (2016-04-15)  3.0.0 (2016-04-15)   \n",
       "3   4800.0    4753.0  4.0.0 (2016-04-15)  3.0.0 (2016-04-15)   \n",
       "4   4800.0    4753.0  4.0.0 (2016-04-15)  3.0.0 (2016-04-15)   \n",
       "\n",
       "                   doi      id_cocas  caseno     intno    year  country  \\\n",
       "0  doi:10.4232/1.12458  2.008276e+11     1.0  111126.0  2008.0    276.0   \n",
       "1  doi:10.4232/1.12458  2.008276e+11     2.0  111126.0  2008.0    276.0   \n",
       "2  doi:10.4232/1.12458  2.008276e+11     3.0  111126.0  2008.0    276.0   \n",
       "3  doi:10.4232/1.12458  2.008276e+11     4.0  111126.0  2008.0    276.0   \n",
       "4  doi:10.4232/1.12458  2.008276e+11     5.0  111126.0  2008.0    276.0   \n",
       "\n",
       "   ...    v374c v375  v376      v377      v378  Maintainorder  \\\n",
       "0  ...      NaN  1.0  33.0  200809.0  200902.0            NaN   \n",
       "1  ...      NaN  1.0  33.0  200809.0  200902.0            NaN   \n",
       "2  ...      NaN  1.0  33.0  200809.0  200902.0            NaN   \n",
       "3  ...      NaN  1.0  33.0  200809.0  200902.0            NaN   \n",
       "4  ...      NaN  1.0  33.0  200809.0  200902.0            NaN   \n",
       "\n",
       "   RelativeDeprivationFull  Intergration  Authorit  Trust  \n",
       "0                      NaN      2.000000  5.166667  2.750  \n",
       "1                  4.19625      2.000000  5.200000    NaN  \n",
       "2                      NaN      2.000000       NaN  2.375  \n",
       "3                      NaN      1.500000       NaN  3.375  \n",
       "4                      NaN      1.333333  5.266667  2.875  \n",
       "\n",
       "[5 rows x 482 columns]"
      ]
     },
     "execution_count": 4,
     "metadata": {},
     "output_type": "execute_result"
    }
   ],
   "source": [
    "df.head()"
   ]
  },
  {
   "cell_type": "code",
   "execution_count": 83,
   "metadata": {},
   "outputs": [],
   "source": [
    "# check https://github.com/anthropedia/tci-stats/blob/master/tcistats/__init__.py\n",
    "def cronbach_alpha(items):\n",
    "    items_count = items.shape[1]\n",
    "    variance_sum = float(items.var(axis=0, ddof=1).sum())\n",
    "    total_var = float(items.sum(axis=1).var(ddof=1))\n",
    "    return (items_count / float(items_count - 1) * (1 - variance_sum / total_var))"
   ]
  },
  {
   "cell_type": "code",
   "execution_count": 84,
   "metadata": {},
   "outputs": [
    {
     "name": "stdout",
     "output_type": "stream",
     "text": [
      "Cronbach's alhpa is: 0.8696118736029635\n"
     ]
    }
   ],
   "source": [
    "fundamentalism = [\"Auth1\", \"Auth2\", \"Auth3\", \"Nonauth\", \"Nonauth2\", \"Nonauth1\", \n",
    "                  \"v233\", \"v234\", \"v235\", \"v236\", \"v237\", \"v238\", \"v239\", \"v240\", \"v241\", \"v242\", \"v243\", \"v244\",\n",
    "                  \"v245\", \"v246\", \"v247\", \"v248\", \"v249\", \"v250\", \"v251\",\n",
    "                  \"Deathpenalty\", \"Maintainorder\", \"TrueReligion\", \"PoliticalGd\", \"Religlead\"]\n",
    "# \n",
    "df_fundamentalism = df[['caseno'] + fundamentalism].copy()\n",
    "df_fundamentalism = df_fundamentalism.rename(index=str, columns={\"caseno\": \"original respondent number\"})\n",
    "# \n",
    "print(\"Cronbach's alhpa is: {}\".format(cronbach_alpha(df_fundamentalism[fundamentalism])))"
   ]
  },
  {
   "cell_type": "code",
   "execution_count": 85,
   "metadata": {},
   "outputs": [],
   "source": [
    "# replace column names with column labels\n",
    "df.columns = meta.column_labels\n",
    "# to go back to column names\n",
    "#df.columns = meta.column_names"
   ]
  },
  {
   "cell_type": "code",
   "execution_count": 86,
   "metadata": {},
   "outputs": [],
   "source": [
    "#for i in zip(df.columns, meta.column_labels):\n",
    "#    print(i)"
   ]
  },
  {
   "cell_type": "code",
   "execution_count": 87,
   "metadata": {},
   "outputs": [
    {
     "name": "stdout",
     "output_type": "stream",
     "text": [
      "Cronbach's alhpa is: 0.7157896050817715\n"
     ]
    }
   ],
   "source": [
    "integration = ['how proud are you to be a ... (country) citizen (Q72)',\n",
    "               'important: to have been born in [country] (Q80A)',\n",
    "               'important: to respect [country nationality] political institutions and laws (Q80B)',\n",
    "               'important: to have [country nationality] ancestry (Q80C)',\n",
    "               'important: to be able to speak [country language] (Q80D)',\n",
    "               'important: to have lived in [country] for a long time (Q80E)']\n",
    "#\n",
    "df_integration = df[['original respondent number'] + integration + ['age (recoded)',\\\n",
    "                                                                    'sex respondent (Q86)',\\\n",
    "                                                                    'having [countrys] nationality (Q88)',\\\n",
    "                                                                    'which religious denomination do you belong to (Q23a) (standardized)']].copy()\n",
    "#\n",
    "print(\"Cronbach's alhpa is: {}\".format(cronbach_alpha(df_integration[integration])))"
   ]
  },
  {
   "cell_type": "code",
   "execution_count": 88,
   "metadata": {},
   "outputs": [
    {
     "name": "stdout",
     "output_type": "stream",
     "text": [
      "Cronbach's alhpa is: 0.9004031914892028\n"
     ]
    }
   ],
   "source": [
    "deprivation = ['how satisfied are you with your life (Q11)',\n",
    "               'taking all things together how happy are you (Q3)',\n",
    "               'how much control over your life (Q10)',\n",
    "               'how satisfied are you with your job (Q16)',\n",
    "               'monthly household income (x1000), corrected for ppp in euros']\n",
    "# \n",
    "df_deprivation = df[['original respondent number'] + deprivation].copy()\n",
    "# \n",
    "print(\"Cronbach's alhpa is: {}\".format(cronbach_alpha(df_deprivation[deprivation])))"
   ]
  },
  {
   "cell_type": "code",
   "execution_count": 89,
   "metadata": {},
   "outputs": [
    {
     "name": "stdout",
     "output_type": "stream",
     "text": [
      "Cronbach's alhpa is: 0.9392457096057037\n"
     ]
    }
   ],
   "source": [
    "trust = ['how much confidence in: education system (Q63C)',\n",
    "         'how much confidence in: social security system (Q63I)',\n",
    "         'how much confidence in: the police (Q63F)',\n",
    "         'how much confidence in: parliament (Q63G)',\n",
    "         'how much confidence in: civil service (Q63H)',\n",
    "         'how much confidence in: justice system (Q63N)',\n",
    "         'how much confidence in: political parties (Q63Q)',\n",
    "         'how much confidence in: government (Q63R)']\n",
    "# \n",
    "df_trust = df[['original respondent number'] + trust].copy()\n",
    "# \n",
    "print(\"Cronbach's alhpa is: {}\".format(cronbach_alpha(df_trust[trust])))"
   ]
  },
  {
   "cell_type": "code",
   "execution_count": 90,
   "metadata": {},
   "outputs": [],
   "source": [
    "def additive_index(arow, selection):\n",
    "    new_row = arow[selection].sum()\n",
    "    return new_row "
   ]
  },
  {
   "cell_type": "code",
   "execution_count": 91,
   "metadata": {},
   "outputs": [],
   "source": [
    "df_trust[\"trust_index\"] = df_trust.apply(lambda x: additive_index(x, trust), axis=1)"
   ]
  },
  {
   "cell_type": "code",
   "execution_count": 92,
   "metadata": {},
   "outputs": [],
   "source": [
    "df_deprivation[\"deprivation_index\"] = df_deprivation.apply(lambda x: additive_index(x, deprivation), axis=1)"
   ]
  },
  {
   "cell_type": "code",
   "execution_count": 93,
   "metadata": {},
   "outputs": [],
   "source": [
    "df_fundamentalism[\"fundamentalism_index\"] = df_fundamentalism.apply(lambda x: additive_index(x, fundamentalism), axis=1)"
   ]
  },
  {
   "cell_type": "code",
   "execution_count": 94,
   "metadata": {},
   "outputs": [],
   "source": [
    "df_integration[\"integration_index\"] = df_integration.apply(lambda x: additive_index(x, integration), axis=1)"
   ]
  },
  {
   "cell_type": "code",
   "execution_count": 95,
   "metadata": {},
   "outputs": [],
   "source": [
    "min_trust = min(df_trust[\"trust_index\"])\n",
    "max_trust = max(df_trust[\"trust_index\"])\n",
    "min_deprivation = min(df_deprivation[\"deprivation_index\"])\n",
    "max_deprivation = max(df_deprivation[\"deprivation_index\"])\n",
    "min_fundamentalism = min(df_fundamentalism[\"fundamentalism_index\"])\n",
    "max_fundamentalism = max(df_fundamentalism[\"fundamentalism_index\"])\n",
    "min_integration = min(df_integration[\"integration_index\"])\n",
    "max_integration = max(df_integration[\"integration_index\"])\n",
    "\n",
    "def rescale(x, amin, amax):\n",
    "    '''\n",
    "    rescale in range 0-1\n",
    "    '''\n",
    "    a = 0\n",
    "    b = 1\n",
    "    return (((b-a)*(x-amin)) / (amax - amin)) + a\n"
   ]
  },
  {
   "cell_type": "code",
   "execution_count": 96,
   "metadata": {},
   "outputs": [],
   "source": [
    "df_trust[\"trust_index\"] = df_trust.apply(lambda x: rescale(x[\"trust_index\"], min_trust, max_trust), axis=1)"
   ]
  },
  {
   "cell_type": "code",
   "execution_count": 97,
   "metadata": {},
   "outputs": [],
   "source": [
    "df_deprivation[\"deprivation_index\"] = df_deprivation.apply(lambda x: rescale(x[\"deprivation_index\"], min_deprivation, max_deprivation), axis=1)"
   ]
  },
  {
   "cell_type": "code",
   "execution_count": 98,
   "metadata": {},
   "outputs": [],
   "source": [
    "df_fundamentalism[\"fundamentalism_index\"] = df_fundamentalism.apply(lambda x: rescale(x[\"fundamentalism_index\"], min_fundamentalism, max_fundamentalism), axis=1)"
   ]
  },
  {
   "cell_type": "code",
   "execution_count": 99,
   "metadata": {},
   "outputs": [],
   "source": [
    "df_integration[\"integration_index\"] = df_integration.apply(lambda x: rescale(x[\"integration_index\"], min_integration, max_integration), axis=1)"
   ]
  },
  {
   "cell_type": "code",
   "execution_count": 100,
   "metadata": {},
   "outputs": [],
   "source": [
    "ids = ['original respondent number', 'age (recoded)', 'sex respondent (Q86)', 'having [countrys] nationality (Q88)', 'which religious denomination do you belong to (Q23a) (standardized)']"
   ]
  },
  {
   "cell_type": "code",
   "execution_count": 101,
   "metadata": {},
   "outputs": [],
   "source": [
    "# join data frames together\n",
    "df_indices = df_integration[ids + ['integration_index']].set_index('original respondent number')\\\n",
    ".join(df_deprivation.set_index('original respondent number')['deprivation_index'])\\\n",
    ".join(df_fundamentalism.set_index('original respondent number')['fundamentalism_index'])\\\n",
    ".join(df_trust.set_index('original respondent number')['trust_index'])\n",
    "df_indices.reset_index(inplace=True)\n",
    "df_indices.columns = ['id', 'age', 'male?', 'immigrant?', 'muslim?', 'integration', 'deprivation', 'fundamentalism', 'trust']\n"
   ]
  },
  {
   "cell_type": "code",
   "execution_count": 102,
   "metadata": {},
   "outputs": [
    {
     "data": {
      "text/html": [
       "<div>\n",
       "<style>\n",
       "    .dataframe thead tr:only-child th {\n",
       "        text-align: right;\n",
       "    }\n",
       "\n",
       "    .dataframe thead th {\n",
       "        text-align: left;\n",
       "    }\n",
       "\n",
       "    .dataframe tbody tr th {\n",
       "        vertical-align: top;\n",
       "    }\n",
       "</style>\n",
       "<table border=\"1\" class=\"dataframe\">\n",
       "  <thead>\n",
       "    <tr style=\"text-align: right;\">\n",
       "      <th></th>\n",
       "      <th>id</th>\n",
       "      <th>age</th>\n",
       "      <th>male?</th>\n",
       "      <th>immigrant?</th>\n",
       "      <th>muslim?</th>\n",
       "      <th>integration</th>\n",
       "      <th>deprivation</th>\n",
       "      <th>fundamentalism</th>\n",
       "      <th>trust</th>\n",
       "    </tr>\n",
       "  </thead>\n",
       "  <tbody>\n",
       "    <tr>\n",
       "      <th>0</th>\n",
       "      <td>1.0</td>\n",
       "      <td>5.0</td>\n",
       "      <td>1.0</td>\n",
       "      <td>1.0</td>\n",
       "      <td>0.0</td>\n",
       "      <td>0.545455</td>\n",
       "      <td>0.517655</td>\n",
       "      <td>0.719457</td>\n",
       "      <td>0.68750</td>\n",
       "    </tr>\n",
       "    <tr>\n",
       "      <th>1</th>\n",
       "      <td>2.0</td>\n",
       "      <td>4.0</td>\n",
       "      <td>1.0</td>\n",
       "      <td>1.0</td>\n",
       "      <td>0.0</td>\n",
       "      <td>0.545455</td>\n",
       "      <td>0.539277</td>\n",
       "      <td>0.719457</td>\n",
       "      <td>0.59375</td>\n",
       "    </tr>\n",
       "    <tr>\n",
       "      <th>2</th>\n",
       "      <td>3.0</td>\n",
       "      <td>2.0</td>\n",
       "      <td>2.0</td>\n",
       "      <td>1.0</td>\n",
       "      <td>NaN</td>\n",
       "      <td>0.545455</td>\n",
       "      <td>0.316504</td>\n",
       "      <td>0.606335</td>\n",
       "      <td>0.59375</td>\n",
       "    </tr>\n",
       "    <tr>\n",
       "      <th>3</th>\n",
       "      <td>4.0</td>\n",
       "      <td>4.0</td>\n",
       "      <td>2.0</td>\n",
       "      <td>1.0</td>\n",
       "      <td>NaN</td>\n",
       "      <td>0.409091</td>\n",
       "      <td>0.529189</td>\n",
       "      <td>0.705882</td>\n",
       "      <td>0.84375</td>\n",
       "    </tr>\n",
       "    <tr>\n",
       "      <th>4</th>\n",
       "      <td>5.0</td>\n",
       "      <td>6.0</td>\n",
       "      <td>1.0</td>\n",
       "      <td>1.0</td>\n",
       "      <td>NaN</td>\n",
       "      <td>0.363636</td>\n",
       "      <td>0.549365</td>\n",
       "      <td>0.733032</td>\n",
       "      <td>0.71875</td>\n",
       "    </tr>\n",
       "  </tbody>\n",
       "</table>\n",
       "</div>"
      ],
      "text/plain": [
       "    id  age  male?  immigrant?  muslim?  integration  deprivation  \\\n",
       "0  1.0  5.0    1.0         1.0      0.0     0.545455     0.517655   \n",
       "1  2.0  4.0    1.0         1.0      0.0     0.545455     0.539277   \n",
       "2  3.0  2.0    2.0         1.0      NaN     0.545455     0.316504   \n",
       "3  4.0  4.0    2.0         1.0      NaN     0.409091     0.529189   \n",
       "4  5.0  6.0    1.0         1.0      NaN     0.363636     0.549365   \n",
       "\n",
       "   fundamentalism    trust  \n",
       "0        0.719457  0.68750  \n",
       "1        0.719457  0.59375  \n",
       "2        0.606335  0.59375  \n",
       "3        0.705882  0.84375  \n",
       "4        0.733032  0.71875  "
      ]
     },
     "execution_count": 102,
     "metadata": {},
     "output_type": "execute_result"
    }
   ],
   "source": [
    "def check_muslim(x):\n",
    "    if math.isnan(x): \n",
    "        return None\n",
    "    elif x==5:\n",
    "        return 1\n",
    "    elif x!=5:\n",
    "        return 0\n",
    "    else:\n",
    "        return \"ERROR\"\n",
    "df_indices['muslim?'] = df_indices['muslim?'].apply(lambda x: check_muslim(x))\n",
    "df_indices.head()"
   ]
  },
  {
   "cell_type": "code",
   "execution_count": 103,
   "metadata": {},
   "outputs": [],
   "source": [
    "def mix(x):\n",
    "    return pd.Series({'integration':list(x.integration),\\\n",
    "                      'trust': list(x.trust),\\\n",
    "                      'deprivation': list(x.deprivation),\\\n",
    "                      'fundamentalism': list(x.fundamentalism)})\n"
   ]
  },
  {
   "cell_type": "code",
   "execution_count": 105,
   "metadata": {},
   "outputs": [
    {
     "data": {
      "text/plain": [
       "34"
      ]
     },
     "execution_count": 105,
     "metadata": {},
     "output_type": "execute_result"
    }
   ],
   "source": [
    "df_combinations = df_indices.groupby(['age', 'male?', 'immigrant?', 'muslim?']).apply(mix)\n",
    "df_combinations.head()\n",
    "len(df_combinations)"
   ]
  },
  {
   "cell_type": "code",
   "execution_count": 106,
   "metadata": {},
   "outputs": [],
   "source": [
    "mux = pd.MultiIndex.from_product(df_combinations.index.levels, names=['age','male?', 'immigrant?', 'muslim?'])"
   ]
  },
  {
   "cell_type": "code",
   "execution_count": 107,
   "metadata": {},
   "outputs": [],
   "source": [
    "df_combinations = df_combinations.reindex(mux, fill_value=0).reset_index()"
   ]
  },
  {
   "cell_type": "code",
   "execution_count": 108,
   "metadata": {},
   "outputs": [
    {
     "name": "stdout",
     "output_type": "stream",
     "text": [
      "Current combinations are 48, while theoretical combinations are 48\n"
     ]
    }
   ],
   "source": [
    "print(\"Current combinations are {}, while theoretical combinations are {}\".format(len(df_combinations), (len(pd.unique(df_combinations.age)) * 2 * 2 * 2)))"
   ]
  },
  {
   "cell_type": "code",
   "execution_count": 109,
   "metadata": {},
   "outputs": [],
   "source": [
    "population_data = resample(df_indices.dropna(), replace=True, n_samples=100000)\n",
    "population_data.to_csv(\"bootstrapped_data.csv\", index=None)"
   ]
  },
  {
   "cell_type": "markdown",
   "metadata": {},
   "source": [
    "### SOME STATS ON INDICES DISTRIBUTIONS"
   ]
  },
  {
   "cell_type": "code",
   "execution_count": 56,
   "metadata": {},
   "outputs": [
    {
     "ename": "NameError",
     "evalue": "name 'df_distrust' is not defined",
     "output_type": "error",
     "traceback": [
      "\u001b[0;31m---------------------------------------------------------------------------\u001b[0m",
      "\u001b[0;31mNameError\u001b[0m                                 Traceback (most recent call last)",
      "\u001b[0;32m<ipython-input-56-c79265d8af6f>\u001b[0m in \u001b[0;36m<module>\u001b[0;34m()\u001b[0m\n\u001b[0;32m----> 1\u001b[0;31m \u001b[0mdf_distrust\u001b[0m\u001b[0;34m[\u001b[0m\u001b[0;34m\"distrust_index_normalized\"\u001b[0m\u001b[0;34m]\u001b[0m \u001b[0;34m=\u001b[0m \u001b[0mdf_distrust\u001b[0m\u001b[0;34m.\u001b[0m\u001b[0mapply\u001b[0m\u001b[0;34m(\u001b[0m\u001b[0;32mlambda\u001b[0m \u001b[0mx\u001b[0m\u001b[0;34m:\u001b[0m \u001b[0mrescale\u001b[0m\u001b[0;34m(\u001b[0m\u001b[0mx\u001b[0m\u001b[0;34m[\u001b[0m\u001b[0;34m\"distrust_index\"\u001b[0m\u001b[0;34m]\u001b[0m\u001b[0;34m)\u001b[0m\u001b[0;34m,\u001b[0m \u001b[0maxis\u001b[0m\u001b[0;34m=\u001b[0m\u001b[0;36m1\u001b[0m\u001b[0;34m)\u001b[0m\u001b[0;34m\u001b[0m\u001b[0m\n\u001b[0m",
      "\u001b[0;31mNameError\u001b[0m: name 'df_distrust' is not defined"
     ]
    }
   ],
   "source": [
    "df_distrust[\"distrust_index_normalized\"] = df_distrust.apply(lambda x: rescale(x[\"distrust_index\"]), axis=1)"
   ]
  },
  {
   "cell_type": "code",
   "execution_count": 155,
   "metadata": {},
   "outputs": [
    {
     "data": {
      "text/plain": [
       "<matplotlib.axes._subplots.AxesSubplot at 0x1a224f0208>"
      ]
     },
     "execution_count": 155,
     "metadata": {},
     "output_type": "execute_result"
    },
    {
     "data": {
      "image/png": "[encoded data removed]",
      "text/plain": [
       "<Figure size 432x288 with 1 Axes>"
      ]
     },
     "metadata": {},
     "output_type": "display_data"
    }
   ],
   "source": [
    "df_distrust[\"distrust_index_normalized\"].hist(bins=10)"
   ]
  },
  {
   "cell_type": "code",
   "execution_count": 163,
   "metadata": {},
   "outputs": [
    {
     "data": {
      "text/html": [
       "<div>\n",
       "<style>\n",
       "    .dataframe thead tr:only-child th {\n",
       "        text-align: right;\n",
       "    }\n",
       "\n",
       "    .dataframe thead th {\n",
       "        text-align: left;\n",
       "    }\n",
       "\n",
       "    .dataframe tbody tr th {\n",
       "        vertical-align: top;\n",
       "    }\n",
       "</style>\n",
       "<table border=\"1\" class=\"dataframe\">\n",
       "  <thead>\n",
       "    <tr style=\"text-align: right;\">\n",
       "      <th></th>\n",
       "      <th>age</th>\n",
       "      <th>sex</th>\n",
       "      <th>religion</th>\n",
       "      <th>resident</th>\n",
       "      <th>distrust</th>\n",
       "    </tr>\n",
       "  </thead>\n",
       "  <tbody>\n",
       "    <tr>\n",
       "      <th>0</th>\n",
       "      <td>63.0</td>\n",
       "      <td>1.0</td>\n",
       "      <td>6.0</td>\n",
       "      <td>1.0</td>\n",
       "      <td>0.309524</td>\n",
       "    </tr>\n",
       "    <tr>\n",
       "      <th>1</th>\n",
       "      <td>23.0</td>\n",
       "      <td>1.0</td>\n",
       "      <td>1.0</td>\n",
       "      <td>1.0</td>\n",
       "      <td>0.595238</td>\n",
       "    </tr>\n",
       "    <tr>\n",
       "      <th>2</th>\n",
       "      <td>67.0</td>\n",
       "      <td>2.0</td>\n",
       "      <td>3.0</td>\n",
       "      <td>1.0</td>\n",
       "      <td>0.523810</td>\n",
       "    </tr>\n",
       "    <tr>\n",
       "      <th>3</th>\n",
       "      <td>33.0</td>\n",
       "      <td>2.0</td>\n",
       "      <td>6.0</td>\n",
       "      <td>1.0</td>\n",
       "      <td>0.000000</td>\n",
       "    </tr>\n",
       "    <tr>\n",
       "      <th>4</th>\n",
       "      <td>64.0</td>\n",
       "      <td>2.0</td>\n",
       "      <td>3.0</td>\n",
       "      <td>1.0</td>\n",
       "      <td>0.285714</td>\n",
       "    </tr>\n",
       "  </tbody>\n",
       "</table>\n",
       "</div>"
      ],
      "text/plain": [
       "    age  sex  religion  resident  distrust\n",
       "0  63.0  1.0       6.0       1.0  0.309524\n",
       "1  23.0  1.0       1.0       1.0  0.595238\n",
       "2  67.0  2.0       3.0       1.0  0.523810\n",
       "3  33.0  2.0       6.0       1.0  0.000000\n",
       "4  64.0  2.0       3.0       1.0  0.285714"
      ]
     },
     "execution_count": 163,
     "metadata": {},
     "output_type": "execute_result"
    }
   ],
   "source": [
    "distrust = df_distrust[[\"RESPONDENT: AGE\", \"RESPONDENT: SEX\", \"RESPONDENT: RELIGIOUS DENOMINATION\", \"GERMAN CITIZENSHIP?\", \"distrust_index_normalized\"]]\n",
    "distrust.columns = ['age', 'sex', 'religion', 'resident', 'distrust']\n",
    "distrust.head()"
   ]
  },
  {
   "cell_type": "code",
   "execution_count": 166,
   "metadata": {},
   "outputs": [
    {
     "data": {
      "text/html": [
       "<div>\n",
       "<style>\n",
       "    .dataframe thead tr:only-child th {\n",
       "        text-align: right;\n",
       "    }\n",
       "\n",
       "    .dataframe thead th {\n",
       "        text-align: left;\n",
       "    }\n",
       "\n",
       "    .dataframe tbody tr th {\n",
       "        vertical-align: top;\n",
       "    }\n",
       "</style>\n",
       "<table border=\"1\" class=\"dataframe\">\n",
       "  <thead>\n",
       "    <tr>\n",
       "      <th>sex</th>\n",
       "      <th colspan=\"10\" halign=\"left\">1.0</th>\n",
       "      <th>...</th>\n",
       "      <th colspan=\"10\" halign=\"left\">2.0</th>\n",
       "    </tr>\n",
       "    <tr>\n",
       "      <th>age</th>\n",
       "      <th colspan=\"2\" halign=\"left\">18.0</th>\n",
       "      <th colspan=\"2\" halign=\"left\">19.0</th>\n",
       "      <th colspan=\"3\" halign=\"left\">20.0</th>\n",
       "      <th colspan=\"2\" halign=\"left\">21.0</th>\n",
       "      <th>22.0</th>\n",
       "      <th>...</th>\n",
       "      <th>88.0</th>\n",
       "      <th>89.0</th>\n",
       "      <th>90.0</th>\n",
       "      <th>91.0</th>\n",
       "      <th>92.0</th>\n",
       "      <th>93.0</th>\n",
       "      <th>94.0</th>\n",
       "      <th>95.0</th>\n",
       "      <th>96.0</th>\n",
       "      <th>97.0</th>\n",
       "    </tr>\n",
       "    <tr>\n",
       "      <th>resident</th>\n",
       "      <th>1.0</th>\n",
       "      <th>3.0</th>\n",
       "      <th>1.0</th>\n",
       "      <th>3.0</th>\n",
       "      <th>1.0</th>\n",
       "      <th>2.0</th>\n",
       "      <th>3.0</th>\n",
       "      <th>1.0</th>\n",
       "      <th>2.0</th>\n",
       "      <th>1.0</th>\n",
       "      <th>...</th>\n",
       "      <th>1.0</th>\n",
       "      <th>1.0</th>\n",
       "      <th>1.0</th>\n",
       "      <th>1.0</th>\n",
       "      <th>1.0</th>\n",
       "      <th>1.0</th>\n",
       "      <th>1.0</th>\n",
       "      <th>1.0</th>\n",
       "      <th>1.0</th>\n",
       "      <th>1.0</th>\n",
       "    </tr>\n",
       "    <tr>\n",
       "      <th>religion</th>\n",
       "      <th></th>\n",
       "      <th></th>\n",
       "      <th></th>\n",
       "      <th></th>\n",
       "      <th></th>\n",
       "      <th></th>\n",
       "      <th></th>\n",
       "      <th></th>\n",
       "      <th></th>\n",
       "      <th></th>\n",
       "      <th></th>\n",
       "      <th></th>\n",
       "      <th></th>\n",
       "      <th></th>\n",
       "      <th></th>\n",
       "      <th></th>\n",
       "      <th></th>\n",
       "      <th></th>\n",
       "      <th></th>\n",
       "      <th></th>\n",
       "      <th></th>\n",
       "    </tr>\n",
       "  </thead>\n",
       "  <tbody>\n",
       "    <tr>\n",
       "      <th>1.0</th>\n",
       "      <td>0.45714</td>\n",
       "      <td>NaN</td>\n",
       "      <td>0.39744</td>\n",
       "      <td>NaN</td>\n",
       "      <td>0.38492</td>\n",
       "      <td>NaN</td>\n",
       "      <td>NaN</td>\n",
       "      <td>0.39286</td>\n",
       "      <td>NaN</td>\n",
       "      <td>0.53571</td>\n",
       "      <td>...</td>\n",
       "      <td>0.42063</td>\n",
       "      <td>0.28571</td>\n",
       "      <td>NaN</td>\n",
       "      <td>0.38095</td>\n",
       "      <td>0.34524</td>\n",
       "      <td>0.47619</td>\n",
       "      <td>1.0</td>\n",
       "      <td>0.30952</td>\n",
       "      <td>0.47619</td>\n",
       "      <td>NaN</td>\n",
       "    </tr>\n",
       "    <tr>\n",
       "      <th>2.0</th>\n",
       "      <td>0.26190</td>\n",
       "      <td>NaN</td>\n",
       "      <td>NaN</td>\n",
       "      <td>NaN</td>\n",
       "      <td>NaN</td>\n",
       "      <td>NaN</td>\n",
       "      <td>NaN</td>\n",
       "      <td>NaN</td>\n",
       "      <td>NaN</td>\n",
       "      <td>NaN</td>\n",
       "      <td>...</td>\n",
       "      <td>NaN</td>\n",
       "      <td>NaN</td>\n",
       "      <td>NaN</td>\n",
       "      <td>NaN</td>\n",
       "      <td>NaN</td>\n",
       "      <td>NaN</td>\n",
       "      <td>NaN</td>\n",
       "      <td>NaN</td>\n",
       "      <td>NaN</td>\n",
       "      <td>NaN</td>\n",
       "    </tr>\n",
       "    <tr>\n",
       "      <th>3.0</th>\n",
       "      <td>0.30060</td>\n",
       "      <td>0.21429</td>\n",
       "      <td>0.41190</td>\n",
       "      <td>NaN</td>\n",
       "      <td>0.36147</td>\n",
       "      <td>0.47619</td>\n",
       "      <td>NaN</td>\n",
       "      <td>0.46230</td>\n",
       "      <td>NaN</td>\n",
       "      <td>0.27778</td>\n",
       "      <td>...</td>\n",
       "      <td>0.70238</td>\n",
       "      <td>NaN</td>\n",
       "      <td>0.36905</td>\n",
       "      <td>NaN</td>\n",
       "      <td>NaN</td>\n",
       "      <td>NaN</td>\n",
       "      <td>NaN</td>\n",
       "      <td>NaN</td>\n",
       "      <td>NaN</td>\n",
       "      <td>NaN</td>\n",
       "    </tr>\n",
       "    <tr>\n",
       "      <th>4.0</th>\n",
       "      <td>NaN</td>\n",
       "      <td>0.30952</td>\n",
       "      <td>NaN</td>\n",
       "      <td>NaN</td>\n",
       "      <td>NaN</td>\n",
       "      <td>NaN</td>\n",
       "      <td>NaN</td>\n",
       "      <td>0.52381</td>\n",
       "      <td>NaN</td>\n",
       "      <td>NaN</td>\n",
       "      <td>...</td>\n",
       "      <td>NaN</td>\n",
       "      <td>NaN</td>\n",
       "      <td>NaN</td>\n",
       "      <td>NaN</td>\n",
       "      <td>NaN</td>\n",
       "      <td>0.50000</td>\n",
       "      <td>NaN</td>\n",
       "      <td>NaN</td>\n",
       "      <td>NaN</td>\n",
       "      <td>NaN</td>\n",
       "    </tr>\n",
       "    <tr>\n",
       "      <th>5.0</th>\n",
       "      <td>NaN</td>\n",
       "      <td>0.50000</td>\n",
       "      <td>NaN</td>\n",
       "      <td>0.57143</td>\n",
       "      <td>0.29762</td>\n",
       "      <td>NaN</td>\n",
       "      <td>NaN</td>\n",
       "      <td>NaN</td>\n",
       "      <td>NaN</td>\n",
       "      <td>NaN</td>\n",
       "      <td>...</td>\n",
       "      <td>NaN</td>\n",
       "      <td>NaN</td>\n",
       "      <td>NaN</td>\n",
       "      <td>NaN</td>\n",
       "      <td>NaN</td>\n",
       "      <td>NaN</td>\n",
       "      <td>NaN</td>\n",
       "      <td>NaN</td>\n",
       "      <td>NaN</td>\n",
       "      <td>NaN</td>\n",
       "    </tr>\n",
       "    <tr>\n",
       "      <th>6.0</th>\n",
       "      <td>0.47279</td>\n",
       "      <td>NaN</td>\n",
       "      <td>0.35238</td>\n",
       "      <td>NaN</td>\n",
       "      <td>0.32993</td>\n",
       "      <td>NaN</td>\n",
       "      <td>0.78571</td>\n",
       "      <td>0.31633</td>\n",
       "      <td>0.33333</td>\n",
       "      <td>0.43899</td>\n",
       "      <td>...</td>\n",
       "      <td>NaN</td>\n",
       "      <td>NaN</td>\n",
       "      <td>NaN</td>\n",
       "      <td>NaN</td>\n",
       "      <td>NaN</td>\n",
       "      <td>NaN</td>\n",
       "      <td>NaN</td>\n",
       "      <td>NaN</td>\n",
       "      <td>NaN</td>\n",
       "      <td>0.69048</td>\n",
       "    </tr>\n",
       "  </tbody>\n",
       "</table>\n",
       "<p>6 rows × 269 columns</p>\n",
       "</div>"
      ],
      "text/plain": [
       "sex           1.0                                                        \\\n",
       "age          18.0              19.0              20.0                     \n",
       "resident      1.0      3.0      1.0      3.0      1.0      2.0      3.0   \n",
       "religion                                                                  \n",
       "1.0       0.45714      NaN  0.39744      NaN  0.38492      NaN      NaN   \n",
       "2.0       0.26190      NaN      NaN      NaN      NaN      NaN      NaN   \n",
       "3.0       0.30060  0.21429  0.41190      NaN  0.36147  0.47619      NaN   \n",
       "4.0           NaN  0.30952      NaN      NaN      NaN      NaN      NaN   \n",
       "5.0           NaN  0.50000      NaN  0.57143  0.29762      NaN      NaN   \n",
       "6.0       0.47279      NaN  0.35238      NaN  0.32993      NaN  0.78571   \n",
       "\n",
       "sex                                   ...         2.0                    \\\n",
       "age          21.0              22.0   ...        88.0     89.0     90.0   \n",
       "resident      1.0      2.0      1.0   ...         1.0      1.0      1.0   \n",
       "religion                              ...                                 \n",
       "1.0       0.39286      NaN  0.53571   ...     0.42063  0.28571      NaN   \n",
       "2.0           NaN      NaN      NaN   ...         NaN      NaN      NaN   \n",
       "3.0       0.46230      NaN  0.27778   ...     0.70238      NaN  0.36905   \n",
       "4.0       0.52381      NaN      NaN   ...         NaN      NaN      NaN   \n",
       "5.0           NaN      NaN      NaN   ...         NaN      NaN      NaN   \n",
       "6.0       0.31633  0.33333  0.43899   ...         NaN      NaN      NaN   \n",
       "\n",
       "sex                                                                  \n",
       "age          91.0     92.0     93.0 94.0     95.0     96.0     97.0  \n",
       "resident      1.0      1.0      1.0  1.0      1.0      1.0      1.0  \n",
       "religion                                                             \n",
       "1.0       0.38095  0.34524  0.47619  1.0  0.30952  0.47619      NaN  \n",
       "2.0           NaN      NaN      NaN  NaN      NaN      NaN      NaN  \n",
       "3.0           NaN      NaN      NaN  NaN      NaN      NaN      NaN  \n",
       "4.0           NaN      NaN  0.50000  NaN      NaN      NaN      NaN  \n",
       "5.0           NaN      NaN      NaN  NaN      NaN      NaN      NaN  \n",
       "6.0           NaN      NaN      NaN  NaN      NaN      NaN  0.69048  \n",
       "\n",
       "[6 rows x 269 columns]"
      ]
     },
     "execution_count": 166,
     "metadata": {},
     "output_type": "execute_result"
    }
   ],
   "source": [
    "pd.crosstab(distrust[\"religion\"], [distrust[\"sex\"], distrust[\"age\"], distrust[\"resident\"]], values=distrust[\"distrust\"], aggfunc='mean').round(5)"
   ]
  },
  {
   "cell_type": "code",
   "execution_count": null,
   "metadata": {},
   "outputs": [],
   "source": []
  }
 ],
 "metadata": {
  "kernelspec": {
   "display_name": "Python 3",
   "language": "python",
   "name": "python3"
  },
  "language_info": {
   "codemirror_mode": {
    "name": "ipython",
    "version": 3
   },
   "file_extension": ".py",
   "mimetype": "text/x-python",
   "name": "python",
   "nbconvert_exporter": "python",
   "pygments_lexer": "ipython3",
   "version": "3.6.3"
  }
 },
 "nbformat": 4,
 "nbformat_minor": 2
}
